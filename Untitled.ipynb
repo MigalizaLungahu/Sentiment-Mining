{
 "cells": [
  {
   "cell_type": "markdown",
   "metadata": {},
   "source": [
    "# Sentiment Analysis"
   ]
  },
  {
   "cell_type": "markdown",
   "metadata": {},
   "source": [
    "There are three elements of Sentiment Analysis\n",
    "- opinion or emotion\n",
    "- subject\n",
    "- subject holder\n"
   ]
  },
  {
   "cell_type": "markdown",
   "metadata": {},
   "source": [
    "How to count values in a specf column\n",
    "use __value_counts()__ method to to that\n",
    "\n",
    "\n",
    "finf the length of the reviews or tweet text\n",
    "__DataFrame.Column.str.len()__\n",
    "\n",
    "to find the longest review use the max function\n",
    "__max(review_lengths)__"
   ]
  },
  {
   "cell_type": "markdown",
   "metadata": {},
   "source": [
    "algorithms that detect the sentiment based on a lexiom of predefined words and their corresponding polarity score. \n",
    "\n",
    "\n",
    "Python Libraries for sentiment analysis\n",
    "- textblob: detects the sentiment, include the polarity and subjectivity of a given string using rule based approach"
   ]
  },
  {
   "cell_type": "code",
   "execution_count": null,
   "metadata": {},
   "outputs": [],
   "source": [
    "# Import the required packages\n",
    "from textblob import TextBlob\n",
    "\n",
    "# Create a textblob object  \n",
    "blob_two_cities = TextBlob(two_cities)\n",
    "\n",
    "# Print out the sentiment \n",
    "print(blob_two_cities.polarity)"
   ]
  },
  {
   "cell_type": "markdown",
   "metadata": {},
   "source": [
    "### Word Cloud\n",
    "the size of the text correspond to the frequency of the words\n",
    "\n",
    "Why are word clouds popular, \n",
    "\n",
    "they can reveal the essential\n",
    "they are easy to understand\n",
    "\n",
    "drawbacks\n",
    "they might seem to work less\n",
    "if the text is large then it might require preprocssing\n"
   ]
  }
 ],
 "metadata": {
  "kernelspec": {
   "display_name": "Python 3",
   "language": "python",
   "name": "python3"
  },
  "language_info": {
   "codemirror_mode": {
    "name": "ipython",
    "version": 3
   },
   "file_extension": ".py",
   "mimetype": "text/x-python",
   "name": "python",
   "nbconvert_exporter": "python",
   "pygments_lexer": "ipython3",
   "version": "3.7.3"
  }
 },
 "nbformat": 4,
 "nbformat_minor": 2
}
